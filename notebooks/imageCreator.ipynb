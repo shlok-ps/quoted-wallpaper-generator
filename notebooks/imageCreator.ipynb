{
 "cells": [
  {
   "cell_type": "code",
   "execution_count": 3,
   "metadata": {},
   "outputs": [],
   "source": [
    "from PIL import Image, ImageDraw, ImageFont\n",
    "import textwrap\n",
    "\n",
    "def add_text_to_image(image_path, text, x, y, width, font_path, font_size):\n",
    "    # Open the image\n",
    "    image = Image.open(image_path)\n",
    "    draw = ImageDraw.Draw(image)\n",
    "    \n",
    "    # Load the font\n",
    "    font = ImageFont.truetype(font_path, font_size)\n",
    "    \n",
    "    # Wrap the text\n",
    "    lines = textwrap.wrap(text, width=width)\n",
    "    \n",
    "    # Set initial y position to be center of the image\n",
    "    # y = (image.height - len(lines) * font.getsize(text)[1]) / 2\n",
    "    # Calculate the total height of the text block\n",
    "    total_height = sum(font.getbbox(line)[3] for line in lines)\n",
    "    # Center the text block vertically\n",
    "    y = (image.height - total_height) / 2\n",
    "    y = y - 100;\n",
    "    # Draw each line of text\n",
    "    for line in lines:\n",
    "        # draw.text((x, y), line, font=font, fill=\"black\")\n",
    "        # dray text at the center of the image\n",
    "        text_width, text_height = font.getbbox(line)[2:]  # Extract width and height\n",
    "        # AttributeError: 'ImageDraw' object has no attribute 'textsize'\n",
    "        # Calculate x, y position for the text\n",
    "        x_pos = (image.width - text_width) / 2\n",
    "        y_pos = y\n",
    "        draw.text((x_pos, y_pos), line, font=font, fill=\"white\")\n",
    "        \n",
    "        y += font.getbbox(line)[3]  # [3] gives the height of the text\n",
    "    \n",
    "    # Save or show the image\n",
    "    #image.show()\n",
    "    return image"
   ]
  },
  {
   "cell_type": "code",
   "execution_count": 4,
   "metadata": {},
   "outputs": [],
   "source": [
    "image = add_text_to_image(\n",
    "    image_path='../assets/base.png',\n",
    "    text='This is a sample text that will be wrapped and drawn on the image.',\n",
    "    x=50,\n",
    "    y=50,\n",
    "    width=52,  # Number of characters per line\n",
    "    font_path='../assets/times.ttf',\n",
    "    font_size=48\n",
    ")\n",
    "image.save(\"../assets/output.png\")"
   ]
  },
  {
   "cell_type": "code",
   "execution_count": null,
   "metadata": {},
   "outputs": [],
   "source": []
  },
  {
   "cell_type": "code",
   "execution_count": null,
   "metadata": {},
   "outputs": [],
   "source": []
  }
 ],
 "metadata": {
  "kernelspec": {
   "display_name": "Python 3",
   "language": "python",
   "name": "python3"
  },
  "language_info": {
   "codemirror_mode": {
    "name": "ipython",
    "version": 3
   },
   "file_extension": ".py",
   "mimetype": "text/x-python",
   "name": "python",
   "nbconvert_exporter": "python",
   "pygments_lexer": "ipython3",
   "version": "3.12.1"
  }
 },
 "nbformat": 4,
 "nbformat_minor": 2
}
